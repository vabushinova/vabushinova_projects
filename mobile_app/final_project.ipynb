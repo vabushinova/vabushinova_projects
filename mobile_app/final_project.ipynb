{
 "cells": [
  {
   "cell_type": "markdown",
   "id": "1c1ac96d",
   "metadata": {},
   "source": [
    "ВЫПУСКНОЙ ПРОЕКТ"
   ]
  },
  {
   "cell_type": "code",
   "execution_count": 1,
   "id": "8e1751f7",
   "metadata": {},
   "outputs": [],
   "source": [
    "import pandas as pd\n",
    "import numpy as np\n",
    "from datetime import datetime, timedelta\n",
    "from matplotlib import pyplot as plt\n",
    "import os\n",
    "from scipy import stats as st\n",
    "import math as mth\n",
    "from plotly import graph_objects as go"
   ]
  },
  {
   "cell_type": "markdown",
   "id": "427527a5",
   "metadata": {},
   "source": [
    "## Чтение и предобработка"
   ]
  },
  {
   "cell_type": "code",
   "execution_count": 2,
   "id": "21ffa08e",
   "metadata": {},
   "outputs": [],
   "source": [
    "mobile_sources = pd.read_csv('https://code.s3.yandex.net/datasets/mobile_soures.csv')\n",
    "mobile_dataset = pd.read_csv('https://code.s3.yandex.net/datasets/mobile_dataset.csv')"
   ]
  },
  {
   "cell_type": "code",
   "execution_count": 3,
   "id": "5dc52483",
   "metadata": {},
   "outputs": [
    {
     "data": {
      "text/html": [
       "<div>\n",
       "<style scoped>\n",
       "    .dataframe tbody tr th:only-of-type {\n",
       "        vertical-align: middle;\n",
       "    }\n",
       "\n",
       "    .dataframe tbody tr th {\n",
       "        vertical-align: top;\n",
       "    }\n",
       "\n",
       "    .dataframe thead th {\n",
       "        text-align: right;\n",
       "    }\n",
       "</style>\n",
       "<table border=\"1\" class=\"dataframe\">\n",
       "  <thead>\n",
       "    <tr style=\"text-align: right;\">\n",
       "      <th></th>\n",
       "      <th>userId</th>\n",
       "      <th>source</th>\n",
       "    </tr>\n",
       "  </thead>\n",
       "  <tbody>\n",
       "    <tr>\n",
       "      <th>0</th>\n",
       "      <td>020292ab-89bc-4156-9acf-68bc2783f894</td>\n",
       "      <td>other</td>\n",
       "    </tr>\n",
       "    <tr>\n",
       "      <th>1</th>\n",
       "      <td>cf7eda61-9349-469f-ac27-e5b6f5ec475c</td>\n",
       "      <td>yandex</td>\n",
       "    </tr>\n",
       "    <tr>\n",
       "      <th>2</th>\n",
       "      <td>8c356c42-3ba9-4cb6-80b8-3f868d0192c3</td>\n",
       "      <td>yandex</td>\n",
       "    </tr>\n",
       "    <tr>\n",
       "      <th>3</th>\n",
       "      <td>d9b06b47-0f36-419b-bbb0-3533e582a6cb</td>\n",
       "      <td>other</td>\n",
       "    </tr>\n",
       "    <tr>\n",
       "      <th>4</th>\n",
       "      <td>f32e1e2a-3027-4693-b793-b7b3ff274439</td>\n",
       "      <td>google</td>\n",
       "    </tr>\n",
       "    <tr>\n",
       "      <th>...</th>\n",
       "      <td>...</td>\n",
       "      <td>...</td>\n",
       "    </tr>\n",
       "    <tr>\n",
       "      <th>4288</th>\n",
       "      <td>b86fe56e-f2de-4f8a-b192-cd89a37ecd41</td>\n",
       "      <td>yandex</td>\n",
       "    </tr>\n",
       "    <tr>\n",
       "      <th>4289</th>\n",
       "      <td>424c0ae1-3ea3-4f1e-a814-6bac73e48ab1</td>\n",
       "      <td>yandex</td>\n",
       "    </tr>\n",
       "    <tr>\n",
       "      <th>4290</th>\n",
       "      <td>437a4cd4-9ba9-457f-8614-d142bc48fbeb</td>\n",
       "      <td>yandex</td>\n",
       "    </tr>\n",
       "    <tr>\n",
       "      <th>4291</th>\n",
       "      <td>c10055f0-0b47-477a-869e-d391b31fdf8f</td>\n",
       "      <td>yandex</td>\n",
       "    </tr>\n",
       "    <tr>\n",
       "      <th>4292</th>\n",
       "      <td>d157bffc-264d-4464-8220-1cc0c42f43a9</td>\n",
       "      <td>google</td>\n",
       "    </tr>\n",
       "  </tbody>\n",
       "</table>\n",
       "<p>4293 rows × 2 columns</p>\n",
       "</div>"
      ],
      "text/plain": [
       "                                    userId  source\n",
       "0     020292ab-89bc-4156-9acf-68bc2783f894   other\n",
       "1     cf7eda61-9349-469f-ac27-e5b6f5ec475c  yandex\n",
       "2     8c356c42-3ba9-4cb6-80b8-3f868d0192c3  yandex\n",
       "3     d9b06b47-0f36-419b-bbb0-3533e582a6cb   other\n",
       "4     f32e1e2a-3027-4693-b793-b7b3ff274439  google\n",
       "...                                    ...     ...\n",
       "4288  b86fe56e-f2de-4f8a-b192-cd89a37ecd41  yandex\n",
       "4289  424c0ae1-3ea3-4f1e-a814-6bac73e48ab1  yandex\n",
       "4290  437a4cd4-9ba9-457f-8614-d142bc48fbeb  yandex\n",
       "4291  c10055f0-0b47-477a-869e-d391b31fdf8f  yandex\n",
       "4292  d157bffc-264d-4464-8220-1cc0c42f43a9  google\n",
       "\n",
       "[4293 rows x 2 columns]"
      ]
     },
     "metadata": {},
     "output_type": "display_data"
    },
    {
     "data": {
      "text/html": [
       "<div>\n",
       "<style scoped>\n",
       "    .dataframe tbody tr th:only-of-type {\n",
       "        vertical-align: middle;\n",
       "    }\n",
       "\n",
       "    .dataframe tbody tr th {\n",
       "        vertical-align: top;\n",
       "    }\n",
       "\n",
       "    .dataframe thead th {\n",
       "        text-align: right;\n",
       "    }\n",
       "</style>\n",
       "<table border=\"1\" class=\"dataframe\">\n",
       "  <thead>\n",
       "    <tr style=\"text-align: right;\">\n",
       "      <th></th>\n",
       "      <th>event.time</th>\n",
       "      <th>event.name</th>\n",
       "      <th>user.id</th>\n",
       "    </tr>\n",
       "  </thead>\n",
       "  <tbody>\n",
       "    <tr>\n",
       "      <th>0</th>\n",
       "      <td>2019-10-07 00:00:00.431357</td>\n",
       "      <td>advert_open</td>\n",
       "      <td>020292ab-89bc-4156-9acf-68bc2783f894</td>\n",
       "    </tr>\n",
       "    <tr>\n",
       "      <th>1</th>\n",
       "      <td>2019-10-07 00:00:01.236320</td>\n",
       "      <td>tips_show</td>\n",
       "      <td>020292ab-89bc-4156-9acf-68bc2783f894</td>\n",
       "    </tr>\n",
       "    <tr>\n",
       "      <th>2</th>\n",
       "      <td>2019-10-07 00:00:02.245341</td>\n",
       "      <td>tips_show</td>\n",
       "      <td>cf7eda61-9349-469f-ac27-e5b6f5ec475c</td>\n",
       "    </tr>\n",
       "    <tr>\n",
       "      <th>3</th>\n",
       "      <td>2019-10-07 00:00:07.039334</td>\n",
       "      <td>tips_show</td>\n",
       "      <td>020292ab-89bc-4156-9acf-68bc2783f894</td>\n",
       "    </tr>\n",
       "    <tr>\n",
       "      <th>4</th>\n",
       "      <td>2019-10-07 00:00:56.319813</td>\n",
       "      <td>advert_open</td>\n",
       "      <td>cf7eda61-9349-469f-ac27-e5b6f5ec475c</td>\n",
       "    </tr>\n",
       "    <tr>\n",
       "      <th>...</th>\n",
       "      <td>...</td>\n",
       "      <td>...</td>\n",
       "      <td>...</td>\n",
       "    </tr>\n",
       "    <tr>\n",
       "      <th>74192</th>\n",
       "      <td>2019-11-03 23:53:29.534986</td>\n",
       "      <td>tips_show</td>\n",
       "      <td>28fccdf4-7b9e-42f5-bc73-439a265f20e9</td>\n",
       "    </tr>\n",
       "    <tr>\n",
       "      <th>74193</th>\n",
       "      <td>2019-11-03 23:54:00.407086</td>\n",
       "      <td>tips_show</td>\n",
       "      <td>28fccdf4-7b9e-42f5-bc73-439a265f20e9</td>\n",
       "    </tr>\n",
       "    <tr>\n",
       "      <th>74194</th>\n",
       "      <td>2019-11-03 23:56:57.041825</td>\n",
       "      <td>search_1</td>\n",
       "      <td>20850c8f-4135-4059-b13b-198d3ac59902</td>\n",
       "    </tr>\n",
       "    <tr>\n",
       "      <th>74195</th>\n",
       "      <td>2019-11-03 23:57:06.232189</td>\n",
       "      <td>tips_show</td>\n",
       "      <td>28fccdf4-7b9e-42f5-bc73-439a265f20e9</td>\n",
       "    </tr>\n",
       "    <tr>\n",
       "      <th>74196</th>\n",
       "      <td>2019-11-03 23:58:12.532487</td>\n",
       "      <td>tips_show</td>\n",
       "      <td>28fccdf4-7b9e-42f5-bc73-439a265f20e9</td>\n",
       "    </tr>\n",
       "  </tbody>\n",
       "</table>\n",
       "<p>74197 rows × 3 columns</p>\n",
       "</div>"
      ],
      "text/plain": [
       "                       event.time   event.name  \\\n",
       "0      2019-10-07 00:00:00.431357  advert_open   \n",
       "1      2019-10-07 00:00:01.236320    tips_show   \n",
       "2      2019-10-07 00:00:02.245341    tips_show   \n",
       "3      2019-10-07 00:00:07.039334    tips_show   \n",
       "4      2019-10-07 00:00:56.319813  advert_open   \n",
       "...                           ...          ...   \n",
       "74192  2019-11-03 23:53:29.534986    tips_show   \n",
       "74193  2019-11-03 23:54:00.407086    tips_show   \n",
       "74194  2019-11-03 23:56:57.041825     search_1   \n",
       "74195  2019-11-03 23:57:06.232189    tips_show   \n",
       "74196  2019-11-03 23:58:12.532487    tips_show   \n",
       "\n",
       "                                    user.id  \n",
       "0      020292ab-89bc-4156-9acf-68bc2783f894  \n",
       "1      020292ab-89bc-4156-9acf-68bc2783f894  \n",
       "2      cf7eda61-9349-469f-ac27-e5b6f5ec475c  \n",
       "3      020292ab-89bc-4156-9acf-68bc2783f894  \n",
       "4      cf7eda61-9349-469f-ac27-e5b6f5ec475c  \n",
       "...                                     ...  \n",
       "74192  28fccdf4-7b9e-42f5-bc73-439a265f20e9  \n",
       "74193  28fccdf4-7b9e-42f5-bc73-439a265f20e9  \n",
       "74194  20850c8f-4135-4059-b13b-198d3ac59902  \n",
       "74195  28fccdf4-7b9e-42f5-bc73-439a265f20e9  \n",
       "74196  28fccdf4-7b9e-42f5-bc73-439a265f20e9  \n",
       "\n",
       "[74197 rows x 3 columns]"
      ]
     },
     "execution_count": 3,
     "metadata": {},
     "output_type": "execute_result"
    }
   ],
   "source": [
    "display(mobile_sources)\n",
    "mobile_dataset"
   ]
  },
  {
   "cell_type": "code",
   "execution_count": 4,
   "id": "1249b8a2",
   "metadata": {},
   "outputs": [
    {
     "name": "stdout",
     "output_type": "stream",
     "text": [
      "<class 'pandas.core.frame.DataFrame'>\n",
      "RangeIndex: 4293 entries, 0 to 4292\n",
      "Data columns (total 2 columns):\n",
      " #   Column   Non-Null Count  Dtype \n",
      "---  ------   --------------  ----- \n",
      " 0   user_id  4293 non-null   object\n",
      " 1   source   4293 non-null   object\n",
      "dtypes: object(2)\n",
      "memory usage: 67.2+ KB\n"
     ]
    },
    {
     "data": {
      "text/plain": [
       "None"
      ]
     },
     "metadata": {},
     "output_type": "display_data"
    },
    {
     "name": "stdout",
     "output_type": "stream",
     "text": [
      "<class 'pandas.core.frame.DataFrame'>\n",
      "RangeIndex: 74197 entries, 0 to 74196\n",
      "Data columns (total 3 columns):\n",
      " #   Column      Non-Null Count  Dtype \n",
      "---  ------      --------------  ----- \n",
      " 0   event_dt    74197 non-null  object\n",
      " 1   event_name  74197 non-null  object\n",
      " 2   user_id     74197 non-null  object\n",
      "dtypes: object(3)\n",
      "memory usage: 1.7+ MB\n"
     ]
    }
   ],
   "source": [
    "mobile_sources = mobile_sources.rename(columns={'userId':'user_id'})\n",
    "mobile_dataset = mobile_dataset.rename(columns={'event.time':'event_dt', 'event.name':'event_name', 'user.id':'user_id'})\n",
    "display(mobile_sources.info())\n",
    "mobile_dataset.info()"
   ]
  },
  {
   "cell_type": "code",
   "execution_count": 5,
   "id": "b300022c",
   "metadata": {},
   "outputs": [
    {
     "data": {
      "text/html": [
       "<div>\n",
       "<style scoped>\n",
       "    .dataframe tbody tr th:only-of-type {\n",
       "        vertical-align: middle;\n",
       "    }\n",
       "\n",
       "    .dataframe tbody tr th {\n",
       "        vertical-align: top;\n",
       "    }\n",
       "\n",
       "    .dataframe thead th {\n",
       "        text-align: right;\n",
       "    }\n",
       "</style>\n",
       "<table border=\"1\" class=\"dataframe\">\n",
       "  <thead>\n",
       "    <tr style=\"text-align: right;\">\n",
       "      <th></th>\n",
       "      <th>event_dt</th>\n",
       "      <th>event_name</th>\n",
       "      <th>user_id</th>\n",
       "    </tr>\n",
       "  </thead>\n",
       "  <tbody>\n",
       "    <tr>\n",
       "      <th>0</th>\n",
       "      <td>2019-10-07 00:00:00.431357</td>\n",
       "      <td>advert_open</td>\n",
       "      <td>020292ab-89bc-4156-9acf-68bc2783f894</td>\n",
       "    </tr>\n",
       "    <tr>\n",
       "      <th>1</th>\n",
       "      <td>2019-10-07 00:00:01.236320</td>\n",
       "      <td>tips_show</td>\n",
       "      <td>020292ab-89bc-4156-9acf-68bc2783f894</td>\n",
       "    </tr>\n",
       "    <tr>\n",
       "      <th>2</th>\n",
       "      <td>2019-10-07 00:00:02.245341</td>\n",
       "      <td>tips_show</td>\n",
       "      <td>cf7eda61-9349-469f-ac27-e5b6f5ec475c</td>\n",
       "    </tr>\n",
       "    <tr>\n",
       "      <th>3</th>\n",
       "      <td>2019-10-07 00:00:07.039334</td>\n",
       "      <td>tips_show</td>\n",
       "      <td>020292ab-89bc-4156-9acf-68bc2783f894</td>\n",
       "    </tr>\n",
       "    <tr>\n",
       "      <th>4</th>\n",
       "      <td>2019-10-07 00:00:56.319813</td>\n",
       "      <td>advert_open</td>\n",
       "      <td>cf7eda61-9349-469f-ac27-e5b6f5ec475c</td>\n",
       "    </tr>\n",
       "    <tr>\n",
       "      <th>...</th>\n",
       "      <td>...</td>\n",
       "      <td>...</td>\n",
       "      <td>...</td>\n",
       "    </tr>\n",
       "    <tr>\n",
       "      <th>74192</th>\n",
       "      <td>2019-11-03 23:53:29.534986</td>\n",
       "      <td>tips_show</td>\n",
       "      <td>28fccdf4-7b9e-42f5-bc73-439a265f20e9</td>\n",
       "    </tr>\n",
       "    <tr>\n",
       "      <th>74193</th>\n",
       "      <td>2019-11-03 23:54:00.407086</td>\n",
       "      <td>tips_show</td>\n",
       "      <td>28fccdf4-7b9e-42f5-bc73-439a265f20e9</td>\n",
       "    </tr>\n",
       "    <tr>\n",
       "      <th>74194</th>\n",
       "      <td>2019-11-03 23:56:57.041825</td>\n",
       "      <td>search_1</td>\n",
       "      <td>20850c8f-4135-4059-b13b-198d3ac59902</td>\n",
       "    </tr>\n",
       "    <tr>\n",
       "      <th>74195</th>\n",
       "      <td>2019-11-03 23:57:06.232189</td>\n",
       "      <td>tips_show</td>\n",
       "      <td>28fccdf4-7b9e-42f5-bc73-439a265f20e9</td>\n",
       "    </tr>\n",
       "    <tr>\n",
       "      <th>74196</th>\n",
       "      <td>2019-11-03 23:58:12.532487</td>\n",
       "      <td>tips_show</td>\n",
       "      <td>28fccdf4-7b9e-42f5-bc73-439a265f20e9</td>\n",
       "    </tr>\n",
       "  </tbody>\n",
       "</table>\n",
       "<p>74197 rows × 3 columns</p>\n",
       "</div>"
      ],
      "text/plain": [
       "                        event_dt   event_name  \\\n",
       "0     2019-10-07 00:00:00.431357  advert_open   \n",
       "1     2019-10-07 00:00:01.236320    tips_show   \n",
       "2     2019-10-07 00:00:02.245341    tips_show   \n",
       "3     2019-10-07 00:00:07.039334    tips_show   \n",
       "4     2019-10-07 00:00:56.319813  advert_open   \n",
       "...                          ...          ...   \n",
       "74192 2019-11-03 23:53:29.534986    tips_show   \n",
       "74193 2019-11-03 23:54:00.407086    tips_show   \n",
       "74194 2019-11-03 23:56:57.041825     search_1   \n",
       "74195 2019-11-03 23:57:06.232189    tips_show   \n",
       "74196 2019-11-03 23:58:12.532487    tips_show   \n",
       "\n",
       "                                    user_id  \n",
       "0      020292ab-89bc-4156-9acf-68bc2783f894  \n",
       "1      020292ab-89bc-4156-9acf-68bc2783f894  \n",
       "2      cf7eda61-9349-469f-ac27-e5b6f5ec475c  \n",
       "3      020292ab-89bc-4156-9acf-68bc2783f894  \n",
       "4      cf7eda61-9349-469f-ac27-e5b6f5ec475c  \n",
       "...                                     ...  \n",
       "74192  28fccdf4-7b9e-42f5-bc73-439a265f20e9  \n",
       "74193  28fccdf4-7b9e-42f5-bc73-439a265f20e9  \n",
       "74194  20850c8f-4135-4059-b13b-198d3ac59902  \n",
       "74195  28fccdf4-7b9e-42f5-bc73-439a265f20e9  \n",
       "74196  28fccdf4-7b9e-42f5-bc73-439a265f20e9  \n",
       "\n",
       "[74197 rows x 3 columns]"
      ]
     },
     "execution_count": 5,
     "metadata": {},
     "output_type": "execute_result"
    }
   ],
   "source": [
    "mobile_dataset['event_dt'] = pd.to_datetime(mobile_dataset['event_dt'], format='%Y-%m-%d %H:%M:%S')\n",
    "mobile_dataset"
   ]
  },
  {
   "cell_type": "code",
   "execution_count": 6,
   "id": "4cb03e37",
   "metadata": {},
   "outputs": [
    {
     "name": "stdout",
     "output_type": "stream",
     "text": [
      "<class 'pandas.core.frame.DataFrame'>\n",
      "Int64Index: 74197 entries, 805 to 72689\n",
      "Data columns (total 4 columns):\n",
      " #   Column      Non-Null Count  Dtype         \n",
      "---  ------      --------------  -----         \n",
      " 0   event_dt    74197 non-null  datetime64[ns]\n",
      " 1   event_name  74197 non-null  object        \n",
      " 2   user_id     74197 non-null  object        \n",
      " 3   session_dt  74197 non-null  datetime64[ns]\n",
      "dtypes: datetime64[ns](2), object(2)\n",
      "memory usage: 2.8+ MB\n"
     ]
    },
    {
     "data": {
      "text/html": [
       "<div>\n",
       "<style scoped>\n",
       "    .dataframe tbody tr th:only-of-type {\n",
       "        vertical-align: middle;\n",
       "    }\n",
       "\n",
       "    .dataframe tbody tr th {\n",
       "        vertical-align: top;\n",
       "    }\n",
       "\n",
       "    .dataframe thead th {\n",
       "        text-align: right;\n",
       "    }\n",
       "</style>\n",
       "<table border=\"1\" class=\"dataframe\">\n",
       "  <thead>\n",
       "    <tr style=\"text-align: right;\">\n",
       "      <th></th>\n",
       "      <th>event_dt</th>\n",
       "      <th>event_name</th>\n",
       "      <th>user_id</th>\n",
       "      <th>session_dt</th>\n",
       "    </tr>\n",
       "  </thead>\n",
       "  <tbody>\n",
       "    <tr>\n",
       "      <th>805</th>\n",
       "      <td>2019-10-07 13:39:45.989359</td>\n",
       "      <td>tips_show</td>\n",
       "      <td>0001b1d5-b74a-4cbf-aeb0-7df5947bf349</td>\n",
       "      <td>2019-10-07</td>\n",
       "    </tr>\n",
       "    <tr>\n",
       "      <th>806</th>\n",
       "      <td>2019-10-07 13:40:31.052909</td>\n",
       "      <td>tips_show</td>\n",
       "      <td>0001b1d5-b74a-4cbf-aeb0-7df5947bf349</td>\n",
       "      <td>2019-10-07</td>\n",
       "    </tr>\n",
       "    <tr>\n",
       "      <th>809</th>\n",
       "      <td>2019-10-07 13:41:05.722489</td>\n",
       "      <td>tips_show</td>\n",
       "      <td>0001b1d5-b74a-4cbf-aeb0-7df5947bf349</td>\n",
       "      <td>2019-10-07</td>\n",
       "    </tr>\n",
       "    <tr>\n",
       "      <th>820</th>\n",
       "      <td>2019-10-07 13:43:20.735461</td>\n",
       "      <td>tips_show</td>\n",
       "      <td>0001b1d5-b74a-4cbf-aeb0-7df5947bf349</td>\n",
       "      <td>2019-10-07</td>\n",
       "    </tr>\n",
       "    <tr>\n",
       "      <th>830</th>\n",
       "      <td>2019-10-07 13:45:30.917502</td>\n",
       "      <td>tips_show</td>\n",
       "      <td>0001b1d5-b74a-4cbf-aeb0-7df5947bf349</td>\n",
       "      <td>2019-10-07</td>\n",
       "    </tr>\n",
       "    <tr>\n",
       "      <th>...</th>\n",
       "      <td>...</td>\n",
       "      <td>...</td>\n",
       "      <td>...</td>\n",
       "      <td>...</td>\n",
       "    </tr>\n",
       "    <tr>\n",
       "      <th>72584</th>\n",
       "      <td>2019-11-03 15:51:23.959572</td>\n",
       "      <td>tips_show</td>\n",
       "      <td>fffb9e79-b927-4dbb-9b48-7fd09b23a62b</td>\n",
       "      <td>2019-11-03</td>\n",
       "    </tr>\n",
       "    <tr>\n",
       "      <th>72589</th>\n",
       "      <td>2019-11-03 15:51:57.899997</td>\n",
       "      <td>contacts_show</td>\n",
       "      <td>fffb9e79-b927-4dbb-9b48-7fd09b23a62b</td>\n",
       "      <td>2019-11-03</td>\n",
       "    </tr>\n",
       "    <tr>\n",
       "      <th>72684</th>\n",
       "      <td>2019-11-03 16:07:40.932077</td>\n",
       "      <td>tips_show</td>\n",
       "      <td>fffb9e79-b927-4dbb-9b48-7fd09b23a62b</td>\n",
       "      <td>2019-11-03</td>\n",
       "    </tr>\n",
       "    <tr>\n",
       "      <th>72688</th>\n",
       "      <td>2019-11-03 16:08:18.202734</td>\n",
       "      <td>tips_show</td>\n",
       "      <td>fffb9e79-b927-4dbb-9b48-7fd09b23a62b</td>\n",
       "      <td>2019-11-03</td>\n",
       "    </tr>\n",
       "    <tr>\n",
       "      <th>72689</th>\n",
       "      <td>2019-11-03 16:08:25.388712</td>\n",
       "      <td>tips_show</td>\n",
       "      <td>fffb9e79-b927-4dbb-9b48-7fd09b23a62b</td>\n",
       "      <td>2019-11-03</td>\n",
       "    </tr>\n",
       "  </tbody>\n",
       "</table>\n",
       "<p>74197 rows × 4 columns</p>\n",
       "</div>"
      ],
      "text/plain": [
       "                        event_dt     event_name  \\\n",
       "805   2019-10-07 13:39:45.989359      tips_show   \n",
       "806   2019-10-07 13:40:31.052909      tips_show   \n",
       "809   2019-10-07 13:41:05.722489      tips_show   \n",
       "820   2019-10-07 13:43:20.735461      tips_show   \n",
       "830   2019-10-07 13:45:30.917502      tips_show   \n",
       "...                          ...            ...   \n",
       "72584 2019-11-03 15:51:23.959572      tips_show   \n",
       "72589 2019-11-03 15:51:57.899997  contacts_show   \n",
       "72684 2019-11-03 16:07:40.932077      tips_show   \n",
       "72688 2019-11-03 16:08:18.202734      tips_show   \n",
       "72689 2019-11-03 16:08:25.388712      tips_show   \n",
       "\n",
       "                                    user_id session_dt  \n",
       "805    0001b1d5-b74a-4cbf-aeb0-7df5947bf349 2019-10-07  \n",
       "806    0001b1d5-b74a-4cbf-aeb0-7df5947bf349 2019-10-07  \n",
       "809    0001b1d5-b74a-4cbf-aeb0-7df5947bf349 2019-10-07  \n",
       "820    0001b1d5-b74a-4cbf-aeb0-7df5947bf349 2019-10-07  \n",
       "830    0001b1d5-b74a-4cbf-aeb0-7df5947bf349 2019-10-07  \n",
       "...                                     ...        ...  \n",
       "72584  fffb9e79-b927-4dbb-9b48-7fd09b23a62b 2019-11-03  \n",
       "72589  fffb9e79-b927-4dbb-9b48-7fd09b23a62b 2019-11-03  \n",
       "72684  fffb9e79-b927-4dbb-9b48-7fd09b23a62b 2019-11-03  \n",
       "72688  fffb9e79-b927-4dbb-9b48-7fd09b23a62b 2019-11-03  \n",
       "72689  fffb9e79-b927-4dbb-9b48-7fd09b23a62b 2019-11-03  \n",
       "\n",
       "[74197 rows x 4 columns]"
      ]
     },
     "execution_count": 6,
     "metadata": {},
     "output_type": "execute_result"
    }
   ],
   "source": [
    "mobile_dataset = mobile_dataset.sort_values(['user_id', 'event_dt']) \n",
    "mobile_dataset['session_dt'] = pd.DatetimeIndex(mobile_dataset['event_dt']).date\n",
    "mobile_dataset['session_dt'] = pd.to_datetime(mobile_dataset['session_dt'])\n",
    "mobile_dataset.info()\n",
    "mobile_dataset"
   ]
  },
  {
   "cell_type": "code",
   "execution_count": 7,
   "id": "5b3386d0",
   "metadata": {},
   "outputs": [
    {
     "data": {
      "text/plain": [
       "event_dt      0\n",
       "event_name    0\n",
       "user_id       0\n",
       "session_dt    0\n",
       "dtype: int64"
      ]
     },
     "metadata": {},
     "output_type": "display_data"
    },
    {
     "data": {
      "text/plain": [
       "user_id    0\n",
       "source     0\n",
       "dtype: int64"
      ]
     },
     "execution_count": 7,
     "metadata": {},
     "output_type": "execute_result"
    }
   ],
   "source": [
    "display(mobile_dataset.isna().sum())\n",
    "mobile_sources.isna().sum()\n",
    "\n",
    "# magic - никаких пропусков!"
   ]
  },
  {
   "cell_type": "code",
   "execution_count": 8,
   "id": "e736b122",
   "metadata": {},
   "outputs": [
    {
     "data": {
      "text/plain": [
       "0"
      ]
     },
     "metadata": {},
     "output_type": "display_data"
    },
    {
     "data": {
      "text/plain": [
       "0"
      ]
     },
     "execution_count": 8,
     "metadata": {},
     "output_type": "execute_result"
    }
   ],
   "source": [
    "display(mobile_dataset.duplicated().sum())\n",
    "mobile_sources.duplicated().sum()\n",
    "\n",
    "# и снова magic - никаких дупликатов! мне не кажется, что тут имеет смысл проверять на неявные дупликаты\n",
    "# слишком много разных параметров. "
   ]
  },
  {
   "cell_type": "code",
   "execution_count": 9,
   "id": "823800da",
   "metadata": {},
   "outputs": [
    {
     "data": {
      "text/plain": [
       "array(['tips_show', 'map', 'search_1', 'photos_show', 'favorites_add',\n",
       "       'contacts_show', 'contacts_call', 'advert_open', 'search_7',\n",
       "       'search_5', 'search_4', 'search_6', 'search_3', 'tips_click',\n",
       "       'search_2', 'show_contacts'], dtype=object)"
      ]
     },
     "metadata": {},
     "output_type": "display_data"
    },
    {
     "data": {
      "text/plain": [
       "array(['other', 'yandex', 'google'], dtype=object)"
      ]
     },
     "execution_count": 9,
     "metadata": {},
     "output_type": "execute_result"
    }
   ],
   "source": [
    "display(mobile_dataset['event_name'].unique())\n",
    "mobile_sources['source'].unique()"
   ]
  },
  {
   "cell_type": "code",
   "execution_count": 10,
   "id": "123b58b9",
   "metadata": {},
   "outputs": [
    {
     "data": {
      "text/plain": [
       "array(['tips_show', 'map', 'search', 'photos_show', 'favorites_add',\n",
       "       'contacts_show', 'contacts_call', 'advert_open', 'tips_click'],\n",
       "      dtype=object)"
      ]
     },
     "execution_count": 10,
     "metadata": {},
     "output_type": "execute_result"
    }
   ],
   "source": [
    "# переименовать события внутри (серчи в один точно), целевое событие привести к 1 виду\n",
    "\n",
    "mobile_dataset = mobile_dataset.replace({'event_name':{'search_1':'search', 'search_2':'search','search_3':'search',\n",
    "                                                       'search_4':'search','search_5':'search','search_6':'search',\n",
    "                                                      'search_7':'search', 'show_contacts':'contacts_show'}})\n",
    "mobile_dataset['event_name'].unique()"
   ]
  },
  {
   "cell_type": "code",
   "execution_count": 11,
   "id": "84a5a4fb",
   "metadata": {},
   "outputs": [
    {
     "data": {
      "text/plain": [
       "0"
      ]
     },
     "execution_count": 11,
     "metadata": {},
     "output_type": "execute_result"
    }
   ],
   "source": [
    "mobile_dataset.duplicated().sum()\n",
    "\n",
    "# даже после этого дупликатов не находится"
   ]
  },
  {
   "cell_type": "code",
   "execution_count": 12,
   "id": "4434410d",
   "metadata": {},
   "outputs": [
    {
     "name": "stdout",
     "output_type": "stream",
     "text": [
      "<class 'pandas.core.frame.DataFrame'>\n",
      "Int64Index: 74197 entries, 0 to 74196\n",
      "Data columns (total 5 columns):\n",
      " #   Column      Non-Null Count  Dtype         \n",
      "---  ------      --------------  -----         \n",
      " 0   event_dt    74197 non-null  datetime64[ns]\n",
      " 1   event_name  74197 non-null  object        \n",
      " 2   user_id     74197 non-null  object        \n",
      " 3   session_dt  74197 non-null  datetime64[ns]\n",
      " 4   source      74197 non-null  object        \n",
      "dtypes: datetime64[ns](2), object(3)\n",
      "memory usage: 3.4+ MB\n"
     ]
    },
    {
     "data": {
      "text/html": [
       "<div>\n",
       "<style scoped>\n",
       "    .dataframe tbody tr th:only-of-type {\n",
       "        vertical-align: middle;\n",
       "    }\n",
       "\n",
       "    .dataframe tbody tr th {\n",
       "        vertical-align: top;\n",
       "    }\n",
       "\n",
       "    .dataframe thead th {\n",
       "        text-align: right;\n",
       "    }\n",
       "</style>\n",
       "<table border=\"1\" class=\"dataframe\">\n",
       "  <thead>\n",
       "    <tr style=\"text-align: right;\">\n",
       "      <th></th>\n",
       "      <th>event_dt</th>\n",
       "      <th>event_name</th>\n",
       "      <th>user_id</th>\n",
       "      <th>session_dt</th>\n",
       "      <th>source</th>\n",
       "    </tr>\n",
       "  </thead>\n",
       "  <tbody>\n",
       "    <tr>\n",
       "      <th>0</th>\n",
       "      <td>2019-10-07 13:39:45.989359</td>\n",
       "      <td>tips_show</td>\n",
       "      <td>0001b1d5-b74a-4cbf-aeb0-7df5947bf349</td>\n",
       "      <td>2019-10-07</td>\n",
       "      <td>other</td>\n",
       "    </tr>\n",
       "    <tr>\n",
       "      <th>1</th>\n",
       "      <td>2019-10-07 13:40:31.052909</td>\n",
       "      <td>tips_show</td>\n",
       "      <td>0001b1d5-b74a-4cbf-aeb0-7df5947bf349</td>\n",
       "      <td>2019-10-07</td>\n",
       "      <td>other</td>\n",
       "    </tr>\n",
       "    <tr>\n",
       "      <th>2</th>\n",
       "      <td>2019-10-07 13:41:05.722489</td>\n",
       "      <td>tips_show</td>\n",
       "      <td>0001b1d5-b74a-4cbf-aeb0-7df5947bf349</td>\n",
       "      <td>2019-10-07</td>\n",
       "      <td>other</td>\n",
       "    </tr>\n",
       "    <tr>\n",
       "      <th>3</th>\n",
       "      <td>2019-10-07 13:43:20.735461</td>\n",
       "      <td>tips_show</td>\n",
       "      <td>0001b1d5-b74a-4cbf-aeb0-7df5947bf349</td>\n",
       "      <td>2019-10-07</td>\n",
       "      <td>other</td>\n",
       "    </tr>\n",
       "    <tr>\n",
       "      <th>4</th>\n",
       "      <td>2019-10-07 13:45:30.917502</td>\n",
       "      <td>tips_show</td>\n",
       "      <td>0001b1d5-b74a-4cbf-aeb0-7df5947bf349</td>\n",
       "      <td>2019-10-07</td>\n",
       "      <td>other</td>\n",
       "    </tr>\n",
       "    <tr>\n",
       "      <th>...</th>\n",
       "      <td>...</td>\n",
       "      <td>...</td>\n",
       "      <td>...</td>\n",
       "      <td>...</td>\n",
       "      <td>...</td>\n",
       "    </tr>\n",
       "    <tr>\n",
       "      <th>74192</th>\n",
       "      <td>2019-11-03 15:51:23.959572</td>\n",
       "      <td>tips_show</td>\n",
       "      <td>fffb9e79-b927-4dbb-9b48-7fd09b23a62b</td>\n",
       "      <td>2019-11-03</td>\n",
       "      <td>google</td>\n",
       "    </tr>\n",
       "    <tr>\n",
       "      <th>74193</th>\n",
       "      <td>2019-11-03 15:51:57.899997</td>\n",
       "      <td>contacts_show</td>\n",
       "      <td>fffb9e79-b927-4dbb-9b48-7fd09b23a62b</td>\n",
       "      <td>2019-11-03</td>\n",
       "      <td>google</td>\n",
       "    </tr>\n",
       "    <tr>\n",
       "      <th>74194</th>\n",
       "      <td>2019-11-03 16:07:40.932077</td>\n",
       "      <td>tips_show</td>\n",
       "      <td>fffb9e79-b927-4dbb-9b48-7fd09b23a62b</td>\n",
       "      <td>2019-11-03</td>\n",
       "      <td>google</td>\n",
       "    </tr>\n",
       "    <tr>\n",
       "      <th>74195</th>\n",
       "      <td>2019-11-03 16:08:18.202734</td>\n",
       "      <td>tips_show</td>\n",
       "      <td>fffb9e79-b927-4dbb-9b48-7fd09b23a62b</td>\n",
       "      <td>2019-11-03</td>\n",
       "      <td>google</td>\n",
       "    </tr>\n",
       "    <tr>\n",
       "      <th>74196</th>\n",
       "      <td>2019-11-03 16:08:25.388712</td>\n",
       "      <td>tips_show</td>\n",
       "      <td>fffb9e79-b927-4dbb-9b48-7fd09b23a62b</td>\n",
       "      <td>2019-11-03</td>\n",
       "      <td>google</td>\n",
       "    </tr>\n",
       "  </tbody>\n",
       "</table>\n",
       "<p>74197 rows × 5 columns</p>\n",
       "</div>"
      ],
      "text/plain": [
       "                        event_dt     event_name  \\\n",
       "0     2019-10-07 13:39:45.989359      tips_show   \n",
       "1     2019-10-07 13:40:31.052909      tips_show   \n",
       "2     2019-10-07 13:41:05.722489      tips_show   \n",
       "3     2019-10-07 13:43:20.735461      tips_show   \n",
       "4     2019-10-07 13:45:30.917502      tips_show   \n",
       "...                          ...            ...   \n",
       "74192 2019-11-03 15:51:23.959572      tips_show   \n",
       "74193 2019-11-03 15:51:57.899997  contacts_show   \n",
       "74194 2019-11-03 16:07:40.932077      tips_show   \n",
       "74195 2019-11-03 16:08:18.202734      tips_show   \n",
       "74196 2019-11-03 16:08:25.388712      tips_show   \n",
       "\n",
       "                                    user_id session_dt  source  \n",
       "0      0001b1d5-b74a-4cbf-aeb0-7df5947bf349 2019-10-07   other  \n",
       "1      0001b1d5-b74a-4cbf-aeb0-7df5947bf349 2019-10-07   other  \n",
       "2      0001b1d5-b74a-4cbf-aeb0-7df5947bf349 2019-10-07   other  \n",
       "3      0001b1d5-b74a-4cbf-aeb0-7df5947bf349 2019-10-07   other  \n",
       "4      0001b1d5-b74a-4cbf-aeb0-7df5947bf349 2019-10-07   other  \n",
       "...                                     ...        ...     ...  \n",
       "74192  fffb9e79-b927-4dbb-9b48-7fd09b23a62b 2019-11-03  google  \n",
       "74193  fffb9e79-b927-4dbb-9b48-7fd09b23a62b 2019-11-03  google  \n",
       "74194  fffb9e79-b927-4dbb-9b48-7fd09b23a62b 2019-11-03  google  \n",
       "74195  fffb9e79-b927-4dbb-9b48-7fd09b23a62b 2019-11-03  google  \n",
       "74196  fffb9e79-b927-4dbb-9b48-7fd09b23a62b 2019-11-03  google  \n",
       "\n",
       "[74197 rows x 5 columns]"
      ]
     },
     "metadata": {},
     "output_type": "display_data"
    },
    {
     "data": {
      "text/plain": [
       "event_dt      0\n",
       "event_name    0\n",
       "user_id       0\n",
       "session_dt    0\n",
       "source        0\n",
       "dtype: int64"
      ]
     },
     "execution_count": 12,
     "metadata": {},
     "output_type": "execute_result"
    }
   ],
   "source": [
    "# объединить два датафрейма\n",
    "\n",
    "mobile_df = mobile_dataset.merge(mobile_sources, on='user_id')\n",
    "\n",
    "mobile_df.info()\n",
    "display(mobile_df)\n",
    "mobile_df.isna().sum()"
   ]
  },
  {
   "cell_type": "code",
   "execution_count": 13,
   "id": "cd86f7cd",
   "metadata": {},
   "outputs": [
    {
     "data": {
      "text/plain": [
       "4293"
      ]
     },
     "metadata": {},
     "output_type": "display_data"
    },
    {
     "data": {
      "text/plain": [
       "4293"
      ]
     },
     "metadata": {},
     "output_type": "display_data"
    },
    {
     "data": {
      "text/plain": [
       "4293"
      ]
     },
     "execution_count": 13,
     "metadata": {},
     "output_type": "execute_result"
    }
   ],
   "source": [
    "display(len(mobile_df['user_id'].unique()))\n",
    "display(len(mobile_dataset['user_id'].unique()))\n",
    "len(mobile_sources['user_id'].unique())\n",
    "\n",
    "# этл чек для себя, что все уникальные пользователи сохранились и в процессе предобработки ничего не потерялось"
   ]
  },
  {
   "cell_type": "markdown",
   "id": "b49dcbd1",
   "metadata": {},
   "source": [
    "## Расчет retention rate"
   ]
  },
  {
   "cell_type": "markdown",
   "id": "4f817f6d",
   "metadata": {},
   "source": [
    "### Создаю профили пользователей"
   ]
  },
  {
   "cell_type": "code",
   "execution_count": 14,
   "id": "b3c1dbfe",
   "metadata": {},
   "outputs": [],
   "source": [
    "def get_profiles(sessions):\n",
    "\n",
    "    # сортируем сессии по ID пользователя и дате первого посещения\n",
    "    # группируем по ID и находим первые значения session_start и channel\n",
    "    # столбец с временем первого посещения назовём first_ts\n",
    "    # от англ. first timestamp — первая временная отметка\n",
    "    profiles = (\n",
    "        mobile_df.sort_values(by=['user_id', 'session_dt'])\n",
    "        .groupby('user_id')\n",
    "        .agg({'session_dt': 'first', 'event_name':'first', 'source': 'first'})\n",
    "        .rename(columns={'session_dt': 'first_ts'})\n",
    "        .reset_index()  # возвращаем user_id из индекса\n",
    "    )\n",
    "\n",
    "    # определяем дату первого посещения\n",
    "    # и первый день месяца, в который это посещение произошло\n",
    "    # эти данные понадобятся для когортного анализа\n",
    "    profiles['dt'] = profiles['first_ts'].dt.date\n",
    "    profiles['month'] = profiles['first_ts'].astype('datetime64[M]')\n",
    "\n",
    "    return profiles "
   ]
  },
  {
   "cell_type": "markdown",
   "id": "1def5922",
   "metadata": {},
   "source": [
    "нужно создать столбец first_ts для того, чтобы чтобы посчитать лайфтаймы у всех. \n",
    "это будет мин дата для каждого уникального юзера"
   ]
  },
  {
   "cell_type": "code",
   "execution_count": 15,
   "id": "49854394",
   "metadata": {},
   "outputs": [
    {
     "data": {
      "text/html": [
       "<div>\n",
       "<style scoped>\n",
       "    .dataframe tbody tr th:only-of-type {\n",
       "        vertical-align: middle;\n",
       "    }\n",
       "\n",
       "    .dataframe tbody tr th {\n",
       "        vertical-align: top;\n",
       "    }\n",
       "\n",
       "    .dataframe thead th {\n",
       "        text-align: right;\n",
       "    }\n",
       "</style>\n",
       "<table border=\"1\" class=\"dataframe\">\n",
       "  <thead>\n",
       "    <tr style=\"text-align: right;\">\n",
       "      <th></th>\n",
       "      <th>user_id</th>\n",
       "      <th>first_ts</th>\n",
       "      <th>event_name</th>\n",
       "      <th>source</th>\n",
       "      <th>dt</th>\n",
       "      <th>month</th>\n",
       "    </tr>\n",
       "  </thead>\n",
       "  <tbody>\n",
       "    <tr>\n",
       "      <th>0</th>\n",
       "      <td>0001b1d5-b74a-4cbf-aeb0-7df5947bf349</td>\n",
       "      <td>2019-10-07</td>\n",
       "      <td>tips_show</td>\n",
       "      <td>other</td>\n",
       "      <td>2019-10-07</td>\n",
       "      <td>2019-10-01</td>\n",
       "    </tr>\n",
       "    <tr>\n",
       "      <th>1</th>\n",
       "      <td>00157779-810c-4498-9e05-a1e9e3cedf93</td>\n",
       "      <td>2019-10-19</td>\n",
       "      <td>search</td>\n",
       "      <td>yandex</td>\n",
       "      <td>2019-10-19</td>\n",
       "      <td>2019-10-01</td>\n",
       "    </tr>\n",
       "    <tr>\n",
       "      <th>2</th>\n",
       "      <td>00463033-5717-4bf1-91b4-09183923b9df</td>\n",
       "      <td>2019-11-01</td>\n",
       "      <td>photos_show</td>\n",
       "      <td>yandex</td>\n",
       "      <td>2019-11-01</td>\n",
       "      <td>2019-11-01</td>\n",
       "    </tr>\n",
       "    <tr>\n",
       "      <th>3</th>\n",
       "      <td>004690c3-5a84-4bb7-a8af-e0c8f8fca64e</td>\n",
       "      <td>2019-10-18</td>\n",
       "      <td>search</td>\n",
       "      <td>google</td>\n",
       "      <td>2019-10-18</td>\n",
       "      <td>2019-10-01</td>\n",
       "    </tr>\n",
       "    <tr>\n",
       "      <th>4</th>\n",
       "      <td>00551e79-152e-4441-9cf7-565d7eb04090</td>\n",
       "      <td>2019-10-25</td>\n",
       "      <td>contacts_show</td>\n",
       "      <td>yandex</td>\n",
       "      <td>2019-10-25</td>\n",
       "      <td>2019-10-01</td>\n",
       "    </tr>\n",
       "    <tr>\n",
       "      <th>...</th>\n",
       "      <td>...</td>\n",
       "      <td>...</td>\n",
       "      <td>...</td>\n",
       "      <td>...</td>\n",
       "      <td>...</td>\n",
       "      <td>...</td>\n",
       "    </tr>\n",
       "    <tr>\n",
       "      <th>4288</th>\n",
       "      <td>ffab8d8a-30bb-424a-a3ab-0b63ebbf7b07</td>\n",
       "      <td>2019-10-13</td>\n",
       "      <td>map</td>\n",
       "      <td>yandex</td>\n",
       "      <td>2019-10-13</td>\n",
       "      <td>2019-10-01</td>\n",
       "    </tr>\n",
       "    <tr>\n",
       "      <th>4289</th>\n",
       "      <td>ffc01466-fdb1-4460-ae94-e800f52eb136</td>\n",
       "      <td>2019-10-07</td>\n",
       "      <td>photos_show</td>\n",
       "      <td>yandex</td>\n",
       "      <td>2019-10-07</td>\n",
       "      <td>2019-10-01</td>\n",
       "    </tr>\n",
       "    <tr>\n",
       "      <th>4290</th>\n",
       "      <td>ffcf50d9-293c-4254-8243-4890b030b238</td>\n",
       "      <td>2019-10-23</td>\n",
       "      <td>tips_show</td>\n",
       "      <td>google</td>\n",
       "      <td>2019-10-23</td>\n",
       "      <td>2019-10-01</td>\n",
       "    </tr>\n",
       "    <tr>\n",
       "      <th>4291</th>\n",
       "      <td>ffe68f10-e48e-470e-be9b-eeb93128ff1a</td>\n",
       "      <td>2019-10-21</td>\n",
       "      <td>search</td>\n",
       "      <td>yandex</td>\n",
       "      <td>2019-10-21</td>\n",
       "      <td>2019-10-01</td>\n",
       "    </tr>\n",
       "    <tr>\n",
       "      <th>4292</th>\n",
       "      <td>fffb9e79-b927-4dbb-9b48-7fd09b23a62b</td>\n",
       "      <td>2019-10-12</td>\n",
       "      <td>tips_show</td>\n",
       "      <td>google</td>\n",
       "      <td>2019-10-12</td>\n",
       "      <td>2019-10-01</td>\n",
       "    </tr>\n",
       "  </tbody>\n",
       "</table>\n",
       "<p>4293 rows × 6 columns</p>\n",
       "</div>"
      ],
      "text/plain": [
       "                                   user_id   first_ts     event_name  source  \\\n",
       "0     0001b1d5-b74a-4cbf-aeb0-7df5947bf349 2019-10-07      tips_show   other   \n",
       "1     00157779-810c-4498-9e05-a1e9e3cedf93 2019-10-19         search  yandex   \n",
       "2     00463033-5717-4bf1-91b4-09183923b9df 2019-11-01    photos_show  yandex   \n",
       "3     004690c3-5a84-4bb7-a8af-e0c8f8fca64e 2019-10-18         search  google   \n",
       "4     00551e79-152e-4441-9cf7-565d7eb04090 2019-10-25  contacts_show  yandex   \n",
       "...                                    ...        ...            ...     ...   \n",
       "4288  ffab8d8a-30bb-424a-a3ab-0b63ebbf7b07 2019-10-13            map  yandex   \n",
       "4289  ffc01466-fdb1-4460-ae94-e800f52eb136 2019-10-07    photos_show  yandex   \n",
       "4290  ffcf50d9-293c-4254-8243-4890b030b238 2019-10-23      tips_show  google   \n",
       "4291  ffe68f10-e48e-470e-be9b-eeb93128ff1a 2019-10-21         search  yandex   \n",
       "4292  fffb9e79-b927-4dbb-9b48-7fd09b23a62b 2019-10-12      tips_show  google   \n",
       "\n",
       "              dt      month  \n",
       "0     2019-10-07 2019-10-01  \n",
       "1     2019-10-19 2019-10-01  \n",
       "2     2019-11-01 2019-11-01  \n",
       "3     2019-10-18 2019-10-01  \n",
       "4     2019-10-25 2019-10-01  \n",
       "...          ...        ...  \n",
       "4288  2019-10-13 2019-10-01  \n",
       "4289  2019-10-07 2019-10-01  \n",
       "4290  2019-10-23 2019-10-01  \n",
       "4291  2019-10-21 2019-10-01  \n",
       "4292  2019-10-12 2019-10-01  \n",
       "\n",
       "[4293 rows x 6 columns]"
      ]
     },
     "execution_count": 15,
     "metadata": {},
     "output_type": "execute_result"
    }
   ],
   "source": [
    "profiles = get_profiles(mobile_df)\n",
    "profiles"
   ]
  },
  {
   "cell_type": "markdown",
   "id": "ea456ade",
   "metadata": {},
   "source": [
    "## время, проведённое в приложении"
   ]
  },
  {
   "cell_type": "code",
   "execution_count": null,
   "id": "d40787e2",
   "metadata": {},
   "outputs": [],
   "source": []
  },
  {
   "cell_type": "markdown",
   "id": "992ad7dc",
   "metadata": {},
   "source": [
    "##  частота действий"
   ]
  },
  {
   "cell_type": "code",
   "execution_count": null,
   "id": "78a39ee4",
   "metadata": {},
   "outputs": [],
   "source": []
  },
  {
   "cell_type": "markdown",
   "id": "4ac56f70",
   "metadata": {},
   "source": [
    "## конверсия в целевое действие — просмотр контактов."
   ]
  },
  {
   "cell_type": "code",
   "execution_count": null,
   "id": "d66f8a0e",
   "metadata": {},
   "outputs": [],
   "source": []
  },
  {
   "cell_type": "code",
   "execution_count": null,
   "id": "9fdde6d3",
   "metadata": {},
   "outputs": [],
   "source": []
  },
  {
   "cell_type": "markdown",
   "id": "31f4aa97",
   "metadata": {},
   "source": [
    "## Сегментация пользователей"
   ]
  },
  {
   "cell_type": "code",
   "execution_count": null,
   "id": "c38e701c",
   "metadata": {},
   "outputs": [],
   "source": []
  },
  {
   "cell_type": "code",
   "execution_count": null,
   "id": "a3bcd495",
   "metadata": {},
   "outputs": [],
   "source": []
  },
  {
   "cell_type": "markdown",
   "id": "2ae2d84e",
   "metadata": {},
   "source": [
    "## Проверка стат. гипотез"
   ]
  },
  {
   "cell_type": "code",
   "execution_count": null,
   "id": "15bb6905",
   "metadata": {},
   "outputs": [],
   "source": []
  }
 ],
 "metadata": {
  "kernelspec": {
   "display_name": "Python 3 (ipykernel)",
   "language": "python",
   "name": "python3"
  },
  "language_info": {
   "codemirror_mode": {
    "name": "ipython",
    "version": 3
   },
   "file_extension": ".py",
   "mimetype": "text/x-python",
   "name": "python",
   "nbconvert_exporter": "python",
   "pygments_lexer": "ipython3",
   "version": "3.9.7"
  },
  "toc": {
   "base_numbering": 1,
   "nav_menu": {},
   "number_sections": true,
   "sideBar": true,
   "skip_h1_title": false,
   "title_cell": "Table of Contents",
   "title_sidebar": "Contents",
   "toc_cell": false,
   "toc_position": {},
   "toc_section_display": true,
   "toc_window_display": false
  }
 },
 "nbformat": 4,
 "nbformat_minor": 5
}
